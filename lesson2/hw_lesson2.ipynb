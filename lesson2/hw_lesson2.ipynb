{
 "cells": [
  {
   "cell_type": "markdown",
   "id": "28b081ac",
   "metadata": {},
   "source": [
    "# Масштабирование признаков. L1- и L2-регуляризация. Стохастический градиентный спуск <a class='anchor' id='reg'>"
   ]
  },
  {
   "cell_type": "code",
   "execution_count": 1,
   "id": "3069ada5",
   "metadata": {},
   "outputs": [],
   "source": [
    "import numpy as np\n",
    "from sklearn import datasets\n",
    "import matplotlib.pyplot as plt\n",
    "\n",
    "%matplotlib inline\n",
    "\n",
    "# Зададим размер графиков\n",
    "plt.rcParams['figure.figsize'] = [10, 5]"
   ]
  },
  {
   "cell_type": "markdown",
   "id": "4a863d00",
   "metadata": {},
   "source": [
    "### Задание 1 <a class='anchor' id='reg1'>\n",
    "\n",
    "Сгенерировать датасет при помощи sklearn.datasets.make_regression и обучить линейную модель при помощи градиентного спуска и стохастического градиентного спуска. Построить графики среднеквадратичной ошибки (MSE) от числа итераций для обоих методов на одном рисунке, сделать выводы о разнице скорости сходимости каждого из методов."
   ]
  },
  {
   "cell_type": "code",
   "execution_count": 2,
   "id": "c8f71cbf",
   "metadata": {},
   "outputs": [],
   "source": [
    "n_features = 2\n",
    "# Сгенерируем датасет\n",
    "data, target, coef = datasets.make_regression(n_samples=1000, n_features=n_features, n_informative=2, n_targets=1, \n",
    "                                              noise=5, coef=True, random_state=2)"
   ]
  },
  {
   "cell_type": "code",
   "execution_count": 3,
   "id": "dc17f691",
   "metadata": {},
   "outputs": [],
   "source": [
    "# Получим средние значения и стандартное отклонение по столбцам\n",
    "means = np.mean(data, axis=0)\n",
    "stds = np.std(data, axis=0)\n",
    "\n",
    "# вычтем каждое значение признака из среднего и поделим на стандартное отклонение\n",
    "for i in range(data.shape[0]):\n",
    "    for j in range(data.shape[1]):\n",
    "        data[i][j] = (data[i][j] - means[j])/stds[j]"
   ]
  },
  {
   "cell_type": "code",
   "execution_count": 4,
   "id": "c340be69",
   "metadata": {},
   "outputs": [],
   "source": [
    "def mse(X, w, y_pred):\n",
    "    \"\"\" Вычисляет среднеквадратическую ошибку \"\"\"\n",
    "    y = X.dot(w)\n",
    "    return (sum((y - y_pred)**2)) / len(y)"
   ]
  },
  {
   "cell_type": "code",
   "execution_count": 5,
   "id": "a4be2319",
   "metadata": {},
   "outputs": [],
   "source": [
    "def plot_errors(errors, title='MSE'):\n",
    "    \"\"\" Отображает график MSE в зависимости от числа итераций \"\"\"\n",
    "    plt.plot(range(len(errors[-100:])), errors[-100:])\n",
    "    plt.title(title)\n",
    "    plt.xlabel('Количество итераций')\n",
    "    plt.ylabel('MSE')\n",
    "    plt.grid()\n",
    "    plt.show() "
   ]
  },
  {
   "cell_type": "code",
   "execution_count": 6,
   "id": "b586c383",
   "metadata": {},
   "outputs": [],
   "source": [
    "def print_errors(errors, stop_idx=100):\n",
    "    \"\"\" Выводит значение MSE на первой и итерации с номером stop_idx \"\"\"\n",
    "    print(f'Iteration 0, MSE = {errors[0]}\\nIteration {stop_idx}, MSE = {errors[stop_idx]}')"
   ]
  },
  {
   "cell_type": "code",
   "execution_count": 7,
   "id": "81285016",
   "metadata": {},
   "outputs": [
    {
     "name": "stdout",
     "output_type": "stream",
     "text": [
      "В случае использования градиентного спуска функционал ошибки составляет 38.5683\n"
     ]
    }
   ],
   "source": [
    "# Веса\n",
    "w = np.zeros(n_features)\n",
    "\n",
    "# Список векторов весов после каждой итерации\n",
    "w_list = [w.copy()]\n",
    "\n",
    "# Список значений ошибок после каждой итерации\n",
    "errors1 = []\n",
    "\n",
    "# Шаг градиентного спуска\n",
    "eta = 0.01\n",
    "\n",
    "# Максимальное число итераций\n",
    "max_iter = 1e4\n",
    "\n",
    "# Критерий сходимости (разница весов, при которой алгоритм останавливается)\n",
    "min_weight_dist = 1e-8\n",
    "\n",
    "# Зададим начальную разницу весов большим числом\n",
    "weight_dist = np.inf\n",
    "\n",
    "# Счетчик итераций\n",
    "iter_num = 0\n",
    "\n",
    "X = data\n",
    "Y = target\n",
    "\n",
    "# ход градиентного спуска\n",
    "while weight_dist > min_weight_dist and iter_num < max_iter:\n",
    "    new_w = w - 2 * eta * np.dot(X.T, (np.dot(X, w) - Y)) / Y.shape[0]\n",
    "    weight_dist = np.linalg.norm(new_w - w, ord=2)\n",
    "    \n",
    "    w_list.append(new_w.copy())\n",
    "    errors1.append(mse(X, new_w, Y))\n",
    "    \n",
    "    iter_num += 1\n",
    "    w = new_w\n",
    "    \n",
    "w_list = np.array(w_list)\n",
    "\n",
    "print(f'В случае использования градиентного спуска функционал ошибки составляет {round(errors1[-1], 4)}')"
   ]
  },
  {
   "cell_type": "code",
   "execution_count": 8,
   "id": "1a3bdb9e",
   "metadata": {},
   "outputs": [
    {
     "name": "stdout",
     "output_type": "stream",
     "text": [
      "В случае использования стохастического градиентного спуска функционал ошибки составляет 248.3494\n",
      "Wall time: 7.05 s\n"
     ]
    }
   ],
   "source": [
    "%%time\n",
    "# Инициализируем начальный вектор весов\n",
    "w = np.zeros(n_features)\n",
    "\n",
    "# Список векторов весов после каждой итерации\n",
    "w_list = [w.copy()]\n",
    "\n",
    "# Список значений ошибок после каждой итерации\n",
    "errors = []\n",
    "\n",
    "# Шаг градиентного спуска\n",
    "eta = 0.01\n",
    "\n",
    "# Максимальное число итераций\n",
    "max_iter = 1e5\n",
    "\n",
    "# Критерий сходимости (разница весов, при которой алгоритм останавливается)\n",
    "min_weight_dist = 1e-8\n",
    "\n",
    "# Зададим начальную разницу весов большим числом\n",
    "weight_dist = np.inf\n",
    "\n",
    "# Счётчик итераций\n",
    "iter_num = 0\n",
    "\n",
    "# Фиксируем случайность выборки\n",
    "np.random.seed(1234)\n",
    "\n",
    "# Ход градиентного спуска\n",
    "while weight_dist > min_weight_dist and iter_num < max_iter:\n",
    "    \n",
    "    # Генерируем случайный индекс объекта выборки\n",
    "    train_ind = np.random.randint(data.shape[0])\n",
    "    \n",
    "    new_w = w - 2 * eta * np.dot(data[train_ind].T, \n",
    "                                 (np.dot(data[train_ind], w) - target[train_ind])) / target.shape[0]\n",
    "\n",
    "    weight_dist = np.linalg.norm(new_w - w, ord=2)\n",
    "    \n",
    "    w_list.append(new_w.copy())\n",
    "    errors.append(mse(data, new_w, target))\n",
    "    \n",
    "    iter_num += 1\n",
    "    w = new_w\n",
    "    \n",
    "w_list = np.array(w_list)\n",
    "\n",
    "print(f'В случае использования стохастического градиентного спуска функционал ошибки составляет {round(errors[-1], 4)}')"
   ]
  },
  {
   "cell_type": "code",
   "execution_count": 9,
   "id": "e4af6011",
   "metadata": {
    "scrolled": true
   },
   "outputs": [
    {
     "data": {
      "image/png": "[encoded data removed]",
      "text/plain": [
       "<Figure size 720x360 with 1 Axes>"
      ]
     },
     "metadata": {
      "needs_background": "light"
     },
     "output_type": "display_data"
    }
   ],
   "source": [
    "# Стохастический градиентный спуск\n",
    "plot_errors(errors, 'Стохастический градиентный спуск')"
   ]
  },
  {
   "cell_type": "code",
   "execution_count": 10,
   "id": "17028d00",
   "metadata": {},
   "outputs": [
    {
     "name": "stdout",
     "output_type": "stream",
     "text": [
      "Iteration 0, MSE = 8190.666400278678\n",
      "Iteration 100, MSE = 8154.069284417697\n"
     ]
    }
   ],
   "source": [
    "print_errors(errors)"
   ]
  },
  {
   "cell_type": "code",
   "execution_count": 11,
   "id": "fcb3b3e0",
   "metadata": {},
   "outputs": [
    {
     "data": {
      "image/png": "[encoded data removed]",
      "text/plain": [
       "<Figure size 720x360 with 1 Axes>"
      ]
     },
     "metadata": {
      "needs_background": "light"
     },
     "output_type": "display_data"
    }
   ],
   "source": [
    "# Обычный градиентный спуск\n",
    "plot_errors(errors1, 'Обычный градиентный спуск')"
   ]
  },
  {
   "cell_type": "code",
   "execution_count": 12,
   "id": "eca91d01",
   "metadata": {},
   "outputs": [
    {
     "name": "stdout",
     "output_type": "stream",
     "text": [
      "Iteration 0, MSE = 7875.575487546506\n",
      "Iteration 100, MSE = 190.6192338062269\n"
     ]
    }
   ],
   "source": [
    "print_errors(errors1)"
   ]
  },
  {
   "cell_type": "markdown",
   "id": "e164d9ce",
   "metadata": {},
   "source": [
    "Из второго графика видно, что обычный градиентый спуск сходится быстрее, чем стохастический. Значения MSE для стохастического градиентного спуска изменяются более плавно, разница ошибки между 1 и 100 итерацией меньше, чем для обычного."
   ]
  }
 ],
 "metadata": {
  "kernelspec": {
   "display_name": "Python 3 (ipykernel)",
   "language": "python",
   "name": "python3"
  },
  "language_info": {
   "codemirror_mode": {
    "name": "ipython",
    "version": 3
   },
   "file_extension": ".py",
   "mimetype": "text/x-python",
   "name": "python",
   "nbconvert_exporter": "python",
   "pygments_lexer": "ipython3",
   "version": "3.9.7"
  }
 },
 "nbformat": 4,
 "nbformat_minor": 5
}
