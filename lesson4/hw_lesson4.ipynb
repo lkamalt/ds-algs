{
 "cells": [
  {
   "cell_type": "markdown",
   "id": "158ab021",
   "metadata": {},
   "source": [
    "# Алгоритм построения дерева решений <a class='anchor' id='decision_tree'>"
   ]
  },
  {
   "cell_type": "code",
   "execution_count": 1,
   "id": "fe0809bf",
   "metadata": {},
   "outputs": [],
   "source": [
    "import matplotlib.pyplot as plt\n",
    "import random\n",
    "\n",
    "from matplotlib.colors import ListedColormap\n",
    "from sklearn import datasets\n",
    "\n",
    "import numpy as np\n",
    "from sklearn.model_selection import train_test_split"
   ]
  },
  {
   "cell_type": "markdown",
   "id": "ea058882",
   "metadata": {},
   "source": [
    "### Задание 1 <a class='anchor' id='decision_tree'>\n",
    "\n",
    "В коде из методички реализуйте один или несколько критериев останова: минимальное количество объектов в листе (min_leaf), максимальная глубина дерева, максимальное количество листьев и т.д. Добавьте эти критерии в параметры функции build_tree и проверьте ее работоспособность с помощью визуализации дерева (функция print_tree)."
   ]
  },
  {
   "cell_type": "code",
   "execution_count": 2,
   "id": "eb061c6e",
   "metadata": {},
   "outputs": [],
   "source": [
    "# Сгенерируем датасет\n",
    "classification_data, classification_labels = datasets.make_classification( \n",
    "                                                      n_features=2, n_informative=2, \n",
    "                                                      n_classes=2, n_redundant=0, \n",
    "                                                      n_clusters_per_class=1, \n",
    "                                                      random_state=5)"
   ]
  },
  {
   "cell_type": "code",
   "execution_count": 3,
   "id": "5f9bad58",
   "metadata": {},
   "outputs": [],
   "source": [
    "# Разобьем выборку на обучающую и тестовую\n",
    "train_data, test_data, train_labels, test_labels = train_test_split(classification_data, \n",
    "                                                                    classification_labels, \n",
    "                                                                    test_size = 0.3,\n",
    "                                                                    random_state = 1)"
   ]
  },
  {
   "cell_type": "code",
   "execution_count": 4,
   "id": "202926a8",
   "metadata": {},
   "outputs": [
    {
     "data": {
      "image/png": "[encoded data removed]",
      "text/plain": [
       "<Figure size 432x432 with 1 Axes>"
      ]
     },
     "metadata": {
      "needs_background": "light"
     },
     "output_type": "display_data"
    }
   ],
   "source": [
    "# Визуализация сгенерированных данных\n",
    "colors = ListedColormap(['red', 'blue'])\n",
    "light_colors = ListedColormap(['lightcoral', 'lightblue'])\n",
    "\n",
    "plt.figure(figsize=(6,6))\n",
    "plt.scatter(list(map(lambda x: x[0], classification_data)), list(map(lambda x: x[1], classification_data)), \n",
    "              c=classification_labels, cmap=colors);"
   ]
  },
  {
   "cell_type": "code",
   "execution_count": 5,
   "id": "e4d54e17",
   "metadata": {},
   "outputs": [],
   "source": [
    "class ColorText:\n",
    "    PURPLE = '\\033[1;35;48m'\n",
    "    CYAN = '\\033[1;36;48m'\n",
    "    BOLD = '\\033[1;39;48m'\n",
    "    GREEN = '\\033[1;34;48m'\n",
    "    BLUE = '\\033[1;44;48m'\n",
    "    ORANGE = '\\033[1;32;48m'\n",
    "    YELLOW = '\\033[1;33;48m'\n",
    "    RED = '\\033[1;31;48m'\n",
    "    BLACK = '\\033[1;30;48m'\n",
    "    UNDERLINE = '\\033[1;37;48m'\n",
    "    END = '\\033[1;37;0m'"
   ]
  },
  {
   "cell_type": "code",
   "execution_count": 6,
   "id": "3357ad57",
   "metadata": {},
   "outputs": [],
   "source": [
    "# Напечатаем ход нашего дерева\n",
    "def print_tree(node, spacing=\"\"):\n",
    "    # Если лист, то выводим его прогноз\n",
    "    if isinstance(node, Leaf):\n",
    "        print(ColorText.ORANGE + spacing + ' ЛИСТ' \n",
    "                  + ': прогноз = ' + str(node.prediction) \n",
    "                  + ', объектов = ' + str(len(node.labels)) \n",
    "                  + ', качество = ' + str(round(node.quality, 2))\n",
    "                  + ColorText.END)\n",
    "        return\n",
    "\n",
    "    # Выведем значение индекса и порога на этом узле\n",
    "    print(ColorText.GREEN + spacing + 'УЗЕЛ'  \n",
    "              + ': индекс = ' + str(node.index) \n",
    "              + ', порог = ' + str(round(node.t, 2))\n",
    "              + ColorText.END)\n",
    "\n",
    "    # Рекурсионный вызов функции на положительном поддереве\n",
    "    print (spacing + '--> Левая ветка:')\n",
    "    print_tree(node.true_branch, spacing + \"   \")\n",
    "\n",
    "    # Рекурсионный вызов функции на положительном поддереве\n",
    "    print (spacing + '--> Правая ветка:')\n",
    "    print_tree(node.false_branch, spacing + \"   \")"
   ]
  },
  {
   "cell_type": "code",
   "execution_count": 7,
   "id": "6936ab94",
   "metadata": {},
   "outputs": [],
   "source": [
    "# Реализуем класс узла\n",
    "class Node:\n",
    "    def __init__(self, index, t, true_branch, false_branch):\n",
    "        self.index = index  # индекс признака, по которому ведется сравнение с порогом в этом узле\n",
    "        self.t = t  # значение порога\n",
    "        self.true_branch = true_branch  # поддерево, удовлетворяющее условию в узле\n",
    "        self.false_branch = false_branch  # поддерево, не удовлетворяющее условию в узле"
   ]
  },
  {
   "cell_type": "code",
   "execution_count": 8,
   "id": "5cae3e09",
   "metadata": {},
   "outputs": [],
   "source": [
    "# И класс терминального узла (листа)\n",
    "class Leaf:\n",
    "    def __init__(self, data, labels, quality):\n",
    "        self.data = data\n",
    "        self.labels = labels\n",
    "        self.prediction = self.predict()\n",
    "        self.quality = quality\n",
    "        \n",
    "    def predict(self):\n",
    "        # подсчет количества объектов разных классов\n",
    "        classes = {}  # сформируем словарь \"класс: количество объектов\"\n",
    "        for label in self.labels:\n",
    "            if label not in classes:\n",
    "                classes[label] = 0 \n",
    "            classes[label] += 1\n",
    "        #  найдем класс, количество объектов которого будет максимальным в этом листе и вернем его    \n",
    "        prediction = max(classes, key=classes.get)\n",
    "        return prediction        "
   ]
  },
  {
   "cell_type": "code",
   "execution_count": 9,
   "id": "561d14ce",
   "metadata": {},
   "outputs": [],
   "source": [
    "# Расчет критерия Джини\n",
    "def gini(labels):\n",
    "    #  подсчет количества объектов разных классов\n",
    "    classes = {}\n",
    "    for label in labels:\n",
    "        if label not in classes:\n",
    "            classes[label] = 0\n",
    "        classes[label] += 1\n",
    "    \n",
    "    #  расчет критерия\n",
    "    impurity = 1 # коэффициент неопределенности Джини\n",
    "    for label in classes:\n",
    "        p = classes[label] / len(labels)\n",
    "        impurity -= p ** 2\n",
    "        \n",
    "    return impurity"
   ]
  },
  {
   "cell_type": "code",
   "execution_count": 10,
   "id": "88014d8a",
   "metadata": {},
   "outputs": [],
   "source": [
    "# Расчет качества\n",
    "def quality(left_labels, right_labels, current_gini):\n",
    "    # доля выбоки, ушедшая в левое поддерево\n",
    "    p = float(left_labels.shape[0]) / (left_labels.shape[0] + right_labels.shape[0])\n",
    "    return current_gini - p * gini(left_labels) - (1 - p) * gini(right_labels)"
   ]
  },
  {
   "cell_type": "code",
   "execution_count": 11,
   "id": "cf1d12f9",
   "metadata": {},
   "outputs": [],
   "source": [
    "# Разбиение датасета в узле\n",
    "def split(data, labels, index, t):\n",
    "    \n",
    "    left = np.where(data[:, index] <= t)\n",
    "    right = np.where(data[:, index] > t)\n",
    "        \n",
    "    true_data = data[left]\n",
    "    false_data = data[right]\n",
    "    true_labels = labels[left]\n",
    "    false_labels = labels[right]\n",
    "        \n",
    "    return true_data, false_data, true_labels, false_labels"
   ]
  },
  {
   "cell_type": "code",
   "execution_count": 12,
   "id": "6f910296",
   "metadata": {},
   "outputs": [],
   "source": [
    "# Нахождение наилучшего разбиения\n",
    "def find_best_split(data, labels):\n",
    "    #  обозначим минимальное количество объектов в узле\n",
    "    #min_leaf = 5\n",
    "\n",
    "    current_gini = gini(labels)\n",
    "\n",
    "    best_quality = 0\n",
    "    best_t = None\n",
    "    best_index = None\n",
    "    \n",
    "    n_features = data.shape[1]\n",
    "    \n",
    "    for index in range(n_features):\n",
    "        # будем проверять только уникальные значения признака, исключая повторения\n",
    "        t_values = np.unique([row[index] for row in data])\n",
    "        \n",
    "        for t in t_values:\n",
    "            true_data, false_data, true_labels, false_labels = split(data, labels, index, t)\n",
    "            #  пропускаем разбиения, в которых в узле остается менее 5 объектов\n",
    "            #if len(true_data) < min_leaf or len(false_data) < min_leaf:\n",
    "            #    continue\n",
    "            \n",
    "            current_quality = quality(true_labels, false_labels, current_gini)\n",
    "            \n",
    "            #  выбираем порог, на котором получается максимальный прирост качества\n",
    "            if current_quality > best_quality:\n",
    "                best_quality, best_t, best_index = current_quality, t, index\n",
    "\n",
    "    return best_quality, best_t, best_index"
   ]
  },
  {
   "cell_type": "code",
   "execution_count": 13,
   "id": "df68f020",
   "metadata": {},
   "outputs": [],
   "source": [
    "# Построение дерева с помощью рекурсивной функции\n",
    "def build_tree(data, labels, min_leaf=5):\n",
    "    quality, t, index = find_best_split(data, labels)\n",
    "\n",
    "    #  Базовый случай - прекращаем рекурсию, когда нет прироста в качества\n",
    "    if quality == 0:\n",
    "        return Leaf(data, labels, quality)\n",
    "    \n",
    "    # Добавляем еще один критерий остановки: количество объектов в листе  \n",
    "    if len(data) < min_leaf:\n",
    "        return Leaf(data, labels, quality)\n",
    "\n",
    "    true_data, false_data, true_labels, false_labels = split(data, labels, index, t)\n",
    "\n",
    "    # Рекурсивно строим два поддерева\n",
    "    true_branch = build_tree(true_data, true_labels, min_leaf)\n",
    "    false_branch = build_tree(false_data, false_labels, min_leaf)\n",
    "\n",
    "    # Возвращаем класс узла со всеми поддеревьями, то есть целого дерева\n",
    "    return Node(index, t, true_branch, false_branch)"
   ]
  },
  {
   "cell_type": "code",
   "execution_count": 14,
   "id": "645d5482",
   "metadata": {},
   "outputs": [
    {
     "name": "stdout",
     "output_type": "stream",
     "text": [
      "\u001b[1;34;48mУЗЕЛ: индекс = 0, порог = 0.16\u001b[1;37;0m\n",
      "--> Левая ветка:\n",
      "\u001b[1;34;48m   УЗЕЛ: индекс = 1, порог = -1.52\u001b[1;37;0m\n",
      "   --> Левая ветка:\n",
      "\u001b[1;34;48m      УЗЕЛ: индекс = 0, порог = -0.95\u001b[1;37;0m\n",
      "      --> Левая ветка:\n",
      "\u001b[1;32;48m          ЛИСТ: прогноз = 0, объектов = 6, качество = 0\u001b[1;37;0m\n",
      "      --> Правая ветка:\n",
      "\u001b[1;34;48m         УЗЕЛ: индекс = 0, порог = -0.49\u001b[1;37;0m\n",
      "         --> Левая ветка:\n",
      "\u001b[1;34;48m            УЗЕЛ: индекс = 0, порог = -0.84\u001b[1;37;0m\n",
      "            --> Левая ветка:\n",
      "\u001b[1;32;48m                ЛИСТ: прогноз = 1, объектов = 1, качество = 0\u001b[1;37;0m\n",
      "            --> Правая ветка:\n",
      "\u001b[1;32;48m                ЛИСТ: прогноз = 0, объектов = 1, качество = 0\u001b[1;37;0m\n",
      "         --> Правая ветка:\n",
      "\u001b[1;32;48m             ЛИСТ: прогноз = 1, объектов = 4, качество = 0\u001b[1;37;0m\n",
      "   --> Правая ветка:\n",
      "\u001b[1;32;48m       ЛИСТ: прогноз = 0, объектов = 28, качество = 0\u001b[1;37;0m\n",
      "--> Правая ветка:\n",
      "\u001b[1;32;48m    ЛИСТ: прогноз = 1, объектов = 30, качество = 0\u001b[1;37;0m\n"
     ]
    }
   ],
   "source": [
    "# Построим дерево по обучающей выборке\n",
    "my_tree = build_tree(train_data, train_labels, 1)\n",
    "print_tree(my_tree)"
   ]
  },
  {
   "cell_type": "code",
   "execution_count": 15,
   "id": "b72689e4",
   "metadata": {},
   "outputs": [
    {
     "name": "stdout",
     "output_type": "stream",
     "text": [
      "\u001b[1;34;48mУЗЕЛ: индекс = 0, порог = 0.16\u001b[1;37;0m\n",
      "--> Левая ветка:\n",
      "\u001b[1;34;48m   УЗЕЛ: индекс = 1, порог = -1.52\u001b[1;37;0m\n",
      "   --> Левая ветка:\n",
      "\u001b[1;34;48m      УЗЕЛ: индекс = 0, порог = -0.95\u001b[1;37;0m\n",
      "      --> Левая ветка:\n",
      "\u001b[1;32;48m          ЛИСТ: прогноз = 0, объектов = 6, качество = 0\u001b[1;37;0m\n",
      "      --> Правая ветка:\n",
      "\u001b[1;34;48m         УЗЕЛ: индекс = 0, порог = -0.49\u001b[1;37;0m\n",
      "         --> Левая ветка:\n",
      "\u001b[1;32;48m             ЛИСТ: прогноз = 1, объектов = 2, качество = 0.5\u001b[1;37;0m\n",
      "         --> Правая ветка:\n",
      "\u001b[1;32;48m             ЛИСТ: прогноз = 1, объектов = 4, качество = 0\u001b[1;37;0m\n",
      "   --> Правая ветка:\n",
      "\u001b[1;32;48m       ЛИСТ: прогноз = 0, объектов = 28, качество = 0\u001b[1;37;0m\n",
      "--> Правая ветка:\n",
      "\u001b[1;32;48m    ЛИСТ: прогноз = 1, объектов = 30, качество = 0\u001b[1;37;0m\n"
     ]
    }
   ],
   "source": [
    "# Построим дерево по обучающей выборке\n",
    "my_tree = build_tree(train_data, train_labels, 5)\n",
    "print_tree(my_tree)"
   ]
  },
  {
   "cell_type": "code",
   "execution_count": 16,
   "id": "e8c83d0a",
   "metadata": {},
   "outputs": [
    {
     "name": "stdout",
     "output_type": "stream",
     "text": [
      "\u001b[1;34;48mУЗЕЛ: индекс = 0, порог = 0.16\u001b[1;37;0m\n",
      "--> Левая ветка:\n",
      "\u001b[1;34;48m   УЗЕЛ: индекс = 1, порог = -1.52\u001b[1;37;0m\n",
      "   --> Левая ветка:\n",
      "\u001b[1;32;48m       ЛИСТ: прогноз = 0, объектов = 12, качество = 0.35\u001b[1;37;0m\n",
      "   --> Правая ветка:\n",
      "\u001b[1;32;48m       ЛИСТ: прогноз = 0, объектов = 28, качество = 0\u001b[1;37;0m\n",
      "--> Правая ветка:\n",
      "\u001b[1;32;48m    ЛИСТ: прогноз = 1, объектов = 30, качество = 0\u001b[1;37;0m\n"
     ]
    }
   ],
   "source": [
    "# Построим дерево по обучающей выборке\n",
    "my_tree = build_tree(train_data, train_labels, 15)\n",
    "print_tree(my_tree)"
   ]
  }
 ],
 "metadata": {
  "kernelspec": {
   "display_name": "Python 3 (ipykernel)",
   "language": "python",
   "name": "python3"
  },
  "language_info": {
   "codemirror_mode": {
    "name": "ipython",
    "version": 3
   },
   "file_extension": ".py",
   "mimetype": "text/x-python",
   "name": "python",
   "nbconvert_exporter": "python",
   "pygments_lexer": "ipython3",
   "version": "3.9.7"
  }
 },
 "nbformat": 4,
 "nbformat_minor": 5
}
